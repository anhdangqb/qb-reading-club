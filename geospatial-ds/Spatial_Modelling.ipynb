{
  "cells": [
    {
      "attachments": {},
      "cell_type": "markdown",
      "metadata": {
        "id": "kbjhi63vk5F5"
      },
      "source": [
        "# Spatial Modelling\n",
        "\n",
        "This notebook will present some methods for spatial modelling, using the [AirBnB properties in San Diego, CA](https://geographicdata.science/book/data/airbnb/regression_cleaning.html) dataset and the Georgia Housing dataset\n",
        "\n",
        "<img src=\"images/spatial-models.png\" alt=\"Drawing\" width=\"1100\" height=\"600\"/>"
      ]
    },
    {
      "cell_type": "code",
      "execution_count": 1,
      "metadata": {
        "id": "nn4swETkTA77"
      },
      "outputs": [],
      "source": [
        "from libpysal import weights\n",
        "from pysal.explore import esda\n",
        "import numpy as np\n",
        "import geopandas\n",
        "import matplotlib.pyplot as plt\n",
        "\n",
        "from pysal.model import spreg\n",
        "from spreg import OLS\n",
        "from spreg import GM_Lag\n",
        "from spreg import GM_Error_Het"
      ]
    },
    {
      "cell_type": "code",
      "execution_count": 3,
      "metadata": {
        "id": "4NmQ2XISTxRj"
      },
      "outputs": [],
      "source": [
        "db = geopandas.read_file(\"data/regression_db.geojson\")\n",
        "variable_names = [\n",
        "    \"accommodates\",  # Number of people it accommodates\n",
        "    \"bathrooms\",  # Number of bathrooms\n",
        "    \"bedrooms\",  # Number of bedrooms\n",
        "    \"beds\",  # Number of beds\n",
        "    \"rt_Private_room\",  # Room type: private room\n",
        "    \"rt_Shared_room\",  # Room type: shared room\n",
        "    \"pg_Condominium\",  # Property group: condo\n",
        "    \"pg_House\",  # Property group: house\n",
        "    \"pg_Other\",  # Property group: other\n",
        "    \"pg_Townhouse\",  # Property group: townhouse\n",
        "]"
      ]
    },
    {
      "cell_type": "code",
      "execution_count": 4,
      "metadata": {
        "id": "RG95MR84Toy0"
      },
      "outputs": [
        {
          "name": "stderr",
          "output_type": "stream",
          "text": [
            "/Users/nicole_kan/opt/anaconda3/envs/gdai-env/lib/python3.10/site-packages/libpysal/weights/weights.py:172: UserWarning: The weights matrix is not fully connected: \n",
            " There are 19 disconnected components.\n",
            "  warnings.warn(message)\n"
          ]
        }
      ],
      "source": [
        "knn = weights.KNN.from_dataframe(db, k=4)\n",
        "\n",
        "# Row standardise weights\n",
        "knn.transform = \"R\"\n",
        "\n",
        "# Create spatial lags\n",
        "spatial_lag = weights.lag_spatial(knn, db[variable_names].values)\n",
        "spatial_lag_names = variable_names + [x + \"_lag\" for x in variable_names]"
      ]
    },
    {
      "attachments": {},
      "cell_type": "markdown",
      "metadata": {
        "id": "9n0B3QAnmbRY"
      },
      "source": [
        "# Spatial Lag Model\n",
        "\n",
        "## Exogenous Regressors\n",
        "\n",
        "$P_i = \\alpha + \\beta X_i + \\delta \\sum_j w_{ij} X'_i + \\epsilon_i$, where\n",
        "\n",
        "- $X_i'$ is a subset of $X$ (or could be all of $X$) that we want to include spatial lags for,\n",
        "\n",
        "- If $W$ is row-standardised (usually should) ⇒ then $\\sum_j w_{ij} X'_i$ captures the average value of that feature $X$ in the surrounding locations around $i$ ⇒ this is called the spatial lag of $X_i$"
      ]
    },
    {
      "cell_type": "code",
      "execution_count": 5,
      "metadata": {
        "colab": {
          "base_uri": "https://localhost:8080/"
        },
        "id": "lGhAr0SEUYzA",
        "outputId": "feb6092a-c945-4da6-c9c9-182ed2f6d625"
      },
      "outputs": [
        {
          "name": "stdout",
          "output_type": "stream",
          "text": [
            "REGRESSION\n",
            "----------\n",
            "SUMMARY OF OUTPUT: ORDINARY LEAST SQUARES\n",
            "-----------------------------------------\n",
            "Data set            :     unknown\n",
            "Weights matrix      :     unknown\n",
            "Dependent Variable  :   log_price                Number of Observations:        6110\n",
            "Mean dependent var  :      4.9958                Number of Variables   :          21\n",
            "S.D. dependent var  :      0.8072                Degrees of Freedom    :        6089\n",
            "R-squared           :      0.6864\n",
            "Adjusted R-squared  :      0.6854\n",
            "Sum squared residual:    1248.247                F-statistic           :    666.3971\n",
            "Sigma-square        :       0.205                Prob(F-statistic)     :           0\n",
            "S.E. of regression  :       0.453                Log likelihood        :   -3817.804\n",
            "Sigma-square ML     :       0.204                Akaike info criterion :    7677.608\n",
            "S.E of regression ML:      0.4520                Schwarz criterion     :    7818.679\n",
            "\n",
            "------------------------------------------------------------------------------------\n",
            "            Variable     Coefficient       Std.Error     t-Statistic     Probability\n",
            "------------------------------------------------------------------------------------\n",
            "            CONSTANT       4.2913352       0.0261755     163.9448093       0.0000000\n",
            "        accommodates       0.0751622       0.0050236      14.9617670       0.0000000\n",
            "           bathrooms       0.1738045       0.0110632      15.7101771       0.0000000\n",
            "            bedrooms       0.1664473       0.0110131      15.1136299       0.0000000\n",
            "                beds      -0.0422917       0.0068239      -6.1975689       0.0000000\n",
            "     rt_Private_room      -0.5089935       0.0158762     -32.0601566       0.0000000\n",
            "      rt_Shared_room      -1.1792442       0.0390785     -30.1763225       0.0000000\n",
            "      pg_Condominium       0.1134159       0.0219171       5.1747741       0.0000002\n",
            "            pg_House       0.0245293       0.0153991       1.5929015       0.1112342\n",
            "            pg_Other       0.1328225       0.0235720       5.6347692       0.0000000\n",
            "        pg_Townhouse      -0.0248084       0.0336139      -0.7380400       0.4605186\n",
            "    accommodates_lag       0.0318406       0.0092561       3.4399392       0.0005857\n",
            "       bathrooms_lag       0.1232715       0.0189400       6.5085383       0.0000000\n",
            "        bedrooms_lag      -0.0657843       0.0197266      -3.3348078       0.0008587\n",
            "            beds_lag      -0.0118006       0.0125793      -0.9380997       0.3482304\n",
            " rt_Private_room_lag      -0.1423248       0.0278418      -5.1119089       0.0000003\n",
            "  rt_Shared_room_lag      -0.3495773       0.0648036      -5.3944081       0.0000001\n",
            "  pg_Condominium_lag       0.1327298       0.0385714       3.4411460       0.0005831\n",
            "        pg_House_lag      -0.0930938       0.0241140      -3.8605652       0.0001143\n",
            "        pg_Other_lag       0.1467520       0.0384894       3.8127893       0.0001388\n",
            "    pg_Townhouse_lag      -0.1159085       0.0630400      -1.8386492       0.0660155\n",
            "------------------------------------------------------------------------------------\n",
            "\n",
            "REGRESSION DIAGNOSTICS\n",
            "MULTICOLLINEARITY CONDITION NUMBER           28.371\n",
            "\n",
            "TEST ON NORMALITY OF ERRORS\n",
            "TEST                             DF        VALUE           PROB\n",
            "Jarque-Bera                       2        3523.177           0.0000\n",
            "\n",
            "DIAGNOSTICS FOR HETEROSKEDASTICITY\n",
            "RANDOM COEFFICIENTS\n",
            "TEST                             DF        VALUE           PROB\n",
            "Breusch-Pagan test               20         383.268           0.0000\n",
            "Koenker-Bassett test             20         146.923           0.0000\n",
            "\n",
            "DIAGNOSTICS FOR SPATIAL DEPENDENCE\n",
            "TEST                           MI/DF       VALUE           PROB\n",
            "Lagrange Multiplier (lag)         1         304.396           0.0000\n",
            "Robust LM (lag)                   1          66.680           0.0000\n",
            "Lagrange Multiplier (error)       1         270.197           0.0000\n",
            "Robust LM (error)                 1          32.481           0.0000\n",
            "Lagrange Multiplier (SARMA)       2         336.876           0.0000\n",
            "\n",
            "================================ END OF REPORT =====================================\n"
          ]
        }
      ],
      "source": [
        "m1 = OLS(db[['log_price']].values, np.append(db[variable_names].values, spatial_lag, axis=1), \n",
        "         w=knn, spat_diag=True, name_x=spatial_lag_names, name_y='log_price')\n",
        "\n",
        "print(m1.summary)"
      ]
    },
    {
      "attachments": {},
      "cell_type": "markdown",
      "metadata": {
        "id": "sawWSED0mgQ0"
      },
      "source": [
        "## Endogenous Regressors\n",
        "\n",
        "This model violates some of the assumptions on which OLS relies ⇒ itincludes an endogenous variable $P_i$ on the right-hand side ⇒ we will need a new estimation method to obtain reliable coefficients (not OLS)\n",
        "\n",
        "$P_i = \\alpha + \\lambda \\sum_j w_{ij} P_i + \\beta X_i + \\epsilon_i$, where\n",
        "\n",
        "Conceptually ⇒ it’s NOT “the effect of the price in neighbouring locations j on that of location i” It is assumed to be a “joint decision”: rather than some houses setting their price first and that having a subsequent effect on others, what the equation models is an “interdependent process by which each owner sets her own price *taking into account* the price that will be set in neighboring"
      ]
    },
    {
      "cell_type": "code",
      "execution_count": 6,
      "metadata": {
        "colab": {
          "base_uri": "https://localhost:8080/"
        },
        "id": "mp-lkQsFW4TW",
        "outputId": "7e447d74-aa64-40fb-c0a7-16ce886bd8e4"
      },
      "outputs": [
        {
          "name": "stdout",
          "output_type": "stream",
          "text": [
            "REGRESSION\n",
            "----------\n",
            "SUMMARY OF OUTPUT: SPATIAL TWO STAGE LEAST SQUARES\n",
            "--------------------------------------------------\n",
            "Data set            :     unknown\n",
            "Weights matrix      :     unknown\n",
            "Dependent Variable  :   log_price                Number of Observations:        6110\n",
            "Mean dependent var  :      4.9958                Number of Variables   :          12\n",
            "S.D. dependent var  :      0.8072                Degrees of Freedom    :        6098\n",
            "Pseudo R-squared    :      0.6965\n",
            "Spatial Pseudo R-squared:  0.6812\n",
            "\n",
            "------------------------------------------------------------------------------------\n",
            "            Variable     Coefficient       Std.Error     z-Statistic     Probability\n",
            "------------------------------------------------------------------------------------\n",
            "            CONSTANT       3.3791238       0.0631524      53.5074755       0.0000000\n",
            "        accommodates       0.0730300       0.0048944      14.9212674       0.0000000\n",
            "           bathrooms       0.1729241       0.0105475      16.3947473       0.0000000\n",
            "            bedrooms       0.1590702       0.0106468      14.9406344       0.0000000\n",
            "                beds      -0.0390606       0.0066331      -5.8887452       0.0000000\n",
            "     rt_Private_room      -0.5172333       0.0153354     -33.7281005       0.0000000\n",
            "      rt_Shared_room      -1.1453571       0.0371620     -30.8206813       0.0000000\n",
            "      pg_Condominium       0.1239969       0.0212028       5.8481276       0.0000000\n",
            "            pg_House      -0.0048369       0.0138924      -0.3481690       0.7277133\n",
            "            pg_Other       0.1363015       0.0217941       6.2540587       0.0000000\n",
            "        pg_Townhouse      -0.0300173       0.0327660      -0.9161129       0.3596077\n",
            "         W_log_price       0.2111060       0.0128107      16.4788858       0.0000000\n",
            "------------------------------------------------------------------------------------\n",
            "Instrumented: W_log_price\n",
            "Instruments: W_accommodates, W_bathrooms, W_bedrooms, W_beds,\n",
            "             W_pg_Condominium, W_pg_House, W_pg_Other, W_pg_Townhouse,\n",
            "             W_rt_Private_room, W_rt_Shared_room\n",
            "\n",
            "DIAGNOSTICS FOR SPATIAL DEPENDENCE\n",
            "TEST                           MI/DF       VALUE           PROB\n",
            "Anselin-Kelejian Test             1           4.555          0.0328\n",
            "================================ END OF REPORT =====================================\n"
          ]
        }
      ],
      "source": [
        "m2 = GM_Lag(db[['log_price']].values, db[variable_names].values,\n",
        "                  w=knn, spat_diag=True, w_lags=1,\n",
        "                  name_x=variable_names, name_y='log_price')\n",
        "print(m2.summary)"
      ]
    },
    {
      "attachments": {},
      "cell_type": "markdown",
      "metadata": {},
      "source": [
        "The AKJ test tests if there is any spatial autocorrelation in the residuals. If the p-value is lower than the significance level, then there is still spatial autocorrelation present --> need to use the Spatial Error model."
      ]
    },
    {
      "cell_type": "markdown",
      "metadata": {
        "id": "rN3fDH-2nW8A"
      },
      "source": [
        "# Spatial Error Model\n",
        "\n",
        "This model also violates the assumptions about the error term in a classical OLS model\n",
        "\n",
        "$P_i = \\alpha + \\sum_k \\beta_k X_{ki} + u_i$\n",
        "\n",
        "$u_i = \\lambda u_{lag-i} + \\epsilon_i$\n",
        "\n",
        "$u_{lag-i} = \\sum_j w_{ij}u_j$\n",
        "\n",
        "This model emerges from the presence of spatial dependence in the error term of a spatial unit and the corresponding neighboring units"
      ]
    },
    {
      "cell_type": "code",
      "execution_count": 7,
      "metadata": {
        "colab": {
          "base_uri": "https://localhost:8080/"
        },
        "id": "ztuTZ3DgaPUI",
        "outputId": "cf87c75d-3c45-49d6-d7ae-5ffaf7ce8582"
      },
      "outputs": [
        {
          "name": "stdout",
          "output_type": "stream",
          "text": [
            "REGRESSION\n",
            "----------\n",
            "SUMMARY OF OUTPUT: SPATIALLY WEIGHTED LEAST SQUARES (HET)\n",
            "---------------------------------------------------------\n",
            "Data set            :     unknown\n",
            "Weights matrix      :     unknown\n",
            "Dependent Variable  :   log_price                Number of Observations:        6110\n",
            "Mean dependent var  :      4.9958                Number of Variables   :          11\n",
            "S.D. dependent var  :      0.8072                Degrees of Freedom    :        6099\n",
            "Pseudo R-squared    :      0.6676\n",
            "N. of iterations    :           1                Step1c computed       :          No\n",
            "\n",
            "------------------------------------------------------------------------------------\n",
            "            Variable     Coefficient       Std.Error     z-Statistic     Probability\n",
            "------------------------------------------------------------------------------------\n",
            "            CONSTANT       4.4125766       0.0185015     238.4976766       0.0000000\n",
            "        accommodates       0.0749992       0.0063639      11.7850952       0.0000000\n",
            "           bathrooms       0.1704321       0.0160036      10.6496164       0.0000000\n",
            "            bedrooms       0.1670058       0.0149730      11.1537762       0.0000000\n",
            "                beds      -0.0396169       0.0091444      -4.3323705       0.0000148\n",
            "     rt_Private_room      -0.5202126       0.0164874     -31.5521677       0.0000000\n",
            "      rt_Shared_room      -1.1733531       0.0509017     -23.0513697       0.0000000\n",
            "      pg_Condominium       0.1174425       0.0221849       5.2938108       0.0000001\n",
            "            pg_House       0.0120807       0.0146197       0.8263304       0.4086167\n",
            "            pg_Other       0.1200162       0.0262994       4.5634527       0.0000050\n",
            "        pg_Townhouse      -0.0247890       0.0296373      -0.8364124       0.4029230\n",
            "              lambda       0.3144710       0.0146917      21.4046783       0.0000000\n",
            "------------------------------------------------------------------------------------\n",
            "================================ END OF REPORT =====================================\n"
          ]
        }
      ],
      "source": [
        "m3 = GM_Error_Het(db[['log_price']].values, db[variable_names].values, w=knn, \n",
        "                                 name_y=\"log_price\", name_x=variable_names)\n",
        "print(m3.summary)"
      ]
    },
    {
      "attachments": {},
      "cell_type": "markdown",
      "metadata": {},
      "source": [
        "# Geographically Weighted Regression\n",
        "\n",
        "Key strength of GWR: identify patterns of spatial variation in associations between pairs of variables --> can have different coefficients varying across all regions\n",
        "\n",
        "* Because relationships between variables measured at different locations might not be constant over space --> overcomes limitation of OLS regression of generating global set of estimates\n",
        "* Explores spatial non-stationarity in estimated marginal effects --> produces a local summary of model --> allowing detection of local variations in spatial behaviour --> regression coefficients are produced for every spatial zone"
      ]
    },
    {
      "attachments": {},
      "cell_type": "markdown",
      "metadata": {},
      "source": [
        "## Bandwidth Selection\n",
        "\n",
        "The spatial weighting at given location is done by using a spatial weighting function, considering the distance between locations and the bandwidth (defined by the user, or searched automatically based on error minimization):\n",
        "\n",
        "When the bandwidth increases, the gradient of the kernel becomes less steep and more data points are included in the local calibration\n",
        "\n",
        "<img src=\"images/gwr-bandwidth.png\" alt=\"Drawing\" width=\"500\" height=\"200\"/>"
      ]
    },
    {
      "cell_type": "code",
      "execution_count": 2,
      "metadata": {},
      "outputs": [],
      "source": [
        "import libpysal as ps\n",
        "import pandas as pd\n",
        "from mgwr.gwr import GWR, MGWR\n",
        "from mgwr.sel_bw import Sel_BW"
      ]
    },
    {
      "cell_type": "code",
      "execution_count": 8,
      "metadata": {
        "id": "CwoyMjnRncSi"
      },
      "outputs": [
        {
          "data": {
            "text/plain": [
              "<AxesSubplot:>"
            ]
          },
          "execution_count": 8,
          "metadata": {},
          "output_type": "execute_result"
        },
        {
          "data": {
            "image/png": "[encoded data removed]",
            "text/plain": [
              "<Figure size 400x400 with 1 Axes>"
            ]
          },
          "metadata": {},
          "output_type": "display_data"
        }
      ],
      "source": [
        "georgia_data = pd.read_csv(ps.examples.get_path('GData_utm.csv'))\n",
        "georgia_shp = geopandas.read_file(ps.examples.get_path('G_utm.shp'), engine=\"pyogrio\")\n",
        "\n",
        "fig, ax = plt.subplots(figsize=(4,4))\n",
        "georgia_shp.plot(ax=ax, **{'edgecolor':'black', 'facecolor':'white'})\n",
        "georgia_shp.centroid.plot(ax=ax, c='black')"
      ]
    },
    {
      "cell_type": "code",
      "execution_count": 9,
      "metadata": {},
      "outputs": [],
      "source": [
        "# Prepare inputs\n",
        "g_y = georgia_data['PctBach'].values.reshape((-1,1))\n",
        "g_X = georgia_data[['PctFB', 'PctBlack', 'PctRural']].values\n",
        "u = georgia_data['X']\n",
        "v = georgia_data['Y']\n",
        "g_coords = list(zip(u,v))\n",
        "\n",
        "g_X = (g_X - g_X.mean(axis=0)) / g_X.std(axis=0)\n",
        "\n",
        "g_y = g_y.reshape((-1,1))\n",
        "\n",
        "g_y = (g_y - g_y.mean(axis=0)) / g_y.std(axis=0)"
      ]
    },
    {
      "cell_type": "code",
      "execution_count": 10,
      "metadata": {},
      "outputs": [
        {
          "name": "stdout",
          "output_type": "stream",
          "text": [
            "117.0\n"
          ]
        }
      ],
      "source": [
        "# Calibrate GWR model (i.e. selecting bandwidth)\n",
        "gwr_selector = Sel_BW(g_coords, g_y, g_X)\n",
        "gwr_bw = gwr_selector.search(bw_min=2)\n",
        "print(gwr_bw)\n",
        "gwr_results = GWR(g_coords, g_y, g_X, gwr_bw).fit()"
      ]
    },
    {
      "cell_type": "code",
      "execution_count": 12,
      "metadata": {},
      "outputs": [
        {
          "data": {
            "text/plain": [
              "159"
            ]
          },
          "execution_count": 12,
          "metadata": {},
          "output_type": "execute_result"
        }
      ],
      "source": [
        "len(gwr_results.params)"
      ]
    },
    {
      "cell_type": "code",
      "execution_count": 16,
      "metadata": {},
      "outputs": [
        {
          "data": {
            "text/plain": [
              "array([[-0.23204579,  0.22820815,  0.05697445, -0.42649461],\n",
              "       [-0.2792238 ,  0.16511734,  0.09516542, -0.41226348],\n",
              "       [-0.248944  ,  0.20466991,  0.07121197, -0.42573638],\n",
              "       [-0.23036768,  0.1527493 ,  0.0510379 , -0.35938659],\n",
              "       [ 0.19066196,  0.71627541, -0.16920186, -0.24091753],\n",
              "       [ 0.1631633 ,  0.7217187 , -0.08400431, -0.30053796],\n",
              "       [ 0.16606586,  0.71709664, -0.09223805, -0.29633022],\n",
              "       [ 0.12335741,  0.71584149, -0.04894648, -0.26729574],\n",
              "       [-0.26921578,  0.20975298,  0.09585988, -0.37247221],\n",
              "       [-0.28700587,  0.15228429,  0.09886708, -0.39369059]])"
            ]
          },
          "execution_count": 16,
          "metadata": {},
          "output_type": "execute_result"
        }
      ],
      "source": [
        "# The coefficients of each regressor\n",
        "gwr_results.params[0:10]"
      ]
    },
    {
      "cell_type": "code",
      "execution_count": 13,
      "metadata": {},
      "outputs": [
        {
          "data": {
            "text/plain": [
              "array([[0.55932878],\n",
              "       [0.5148705 ],\n",
              "       [0.54751792],\n",
              "       [0.50691577],\n",
              "       [0.69062134],\n",
              "       [0.69429812],\n",
              "       [0.69813709],\n",
              "       [0.70867337],\n",
              "       [0.49985703],\n",
              "       [0.49379842]])"
            ]
          },
          "execution_count": 13,
          "metadata": {},
          "output_type": "execute_result"
        }
      ],
      "source": [
        "# R2 for each localised region\n",
        "gwr_results.localR2[0:10]"
      ]
    },
    {
      "cell_type": "code",
      "execution_count": 11,
      "metadata": {},
      "outputs": [
        {
          "name": "stdout",
          "output_type": "stream",
          "text": [
            "===========================================================================\n",
            "Model type                                                         Gaussian\n",
            "Number of observations:                                                 159\n",
            "Number of covariates:                                                     4\n",
            "\n",
            "Global Regression Results\n",
            "---------------------------------------------------------------------------\n",
            "Residual sum of squares:                                             71.793\n",
            "Log-likelihood:                                                    -162.399\n",
            "AIC:                                                                332.798\n",
            "AICc:                                                               335.191\n",
            "BIC:                                                               -713.887\n",
            "R2:                                                                   0.548\n",
            "Adj. R2:                                                              0.540\n",
            "\n",
            "Variable                              Est.         SE  t(Est/SE)    p-value\n",
            "------------------------------- ---------- ---------- ---------- ----------\n",
            "X0                                   0.000      0.054      0.000      1.000\n",
            "X1                                   0.458      0.066      6.988      0.000\n",
            "X2                                  -0.084      0.055     -1.525      0.127\n",
            "X3                                  -0.374      0.065     -5.734      0.000\n",
            "\n",
            "Geographically Weighted Regression (GWR) Results\n",
            "---------------------------------------------------------------------------\n",
            "Spatial kernel:                                           Adaptive bisquare\n",
            "Bandwidth used:                                                     117.000\n",
            "\n",
            "Diagnostic information\n",
            "---------------------------------------------------------------------------\n",
            "Residual sum of squares:                                             51.186\n",
            "Effective number of parameters (trace(S)):                           11.805\n",
            "Degree of freedom (n - trace(S)):                                   147.195\n",
            "Sigma estimate:                                                       0.590\n",
            "Log-likelihood:                                                    -135.503\n",
            "AIC:                                                                296.616\n",
            "AICc:                                                               299.051\n",
            "BIC:                                                                335.913\n",
            "R2:                                                                   0.678\n",
            "Adjusted R2:                                                          0.652\n",
            "Adj. alpha (95%):                                                     0.017\n",
            "Adj. critical t value (95%):                                          2.414\n",
            "\n",
            "Summary Statistics For GWR Parameter Estimates\n",
            "---------------------------------------------------------------------------\n",
            "Variable                   Mean        STD        Min     Median        Max\n",
            "-------------------- ---------- ---------- ---------- ---------- ----------\n",
            "X0                       -0.004      0.180     -0.296      0.111      0.208\n",
            "X1                        0.477      0.234      0.123      0.556      0.741\n",
            "X2                       -0.043      0.083     -0.170     -0.053      0.100\n",
            "X3                       -0.328      0.060     -0.464     -0.308     -0.241\n",
            "===========================================================================\n",
            "\n"
          ]
        }
      ],
      "source": [
        "gwr_results.summary()"
      ]
    },
    {
      "cell_type": "code",
      "execution_count": null,
      "metadata": {},
      "outputs": [],
      "source": []
    }
  ],
  "metadata": {
    "colab": {
      "provenance": []
    },
    "kernelspec": {
      "display_name": "gdai-env",
      "language": "python",
      "name": "python3"
    },
    "language_info": {
      "codemirror_mode": {
        "name": "ipython",
        "version": 3
      },
      "file_extension": ".py",
      "mimetype": "text/x-python",
      "name": "python",
      "nbconvert_exporter": "python",
      "pygments_lexer": "ipython3",
      "version": "3.10.6"
    },
    "vscode": {
      "interpreter": {
        "hash": "2525b6b983ee4fbfee80b0df43c8beb938937ff27b527eb4af9598af0131c411"
      }
    }
  },
  "nbformat": 4,
  "nbformat_minor": 0
}
